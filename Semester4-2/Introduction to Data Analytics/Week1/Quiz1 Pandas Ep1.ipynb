{
  "cells": [
    {
      "cell_type": "code",
      "execution_count": 1,
      "metadata": {
        "id": "lhyGDpu4ImNb"
      },
      "outputs": [],
      "source": [
        "#@title Your Information\n",
        "\n",
        "full_name =  'Phukphoom Taphrae' #@param {type:\"string\"}\n",
        "student_id =  '62010609'  #@param {type:\"string\"}\n",
        "\n",
        "#@markdown ---"
      ]
    },
    {
      "cell_type": "markdown",
      "metadata": {
        "id": "5F6ZW_5cZM3R"
      },
      "source": [
        "# **Pandas Quiz Ep.1**\n",
        "> ## *Author* : [Rathachai CHAWUTHAI](https://rathachai.creatier.pro/) , Ph.D\n",
        "> ### *Affiliation* : Computer Engineering, King Mongkut's Institute of Technology Ladkrabang (KMITL)\n",
        "> #### *Updated Date* : 2022-03-23\n",
        "---"
      ]
    },
    {
      "cell_type": "markdown",
      "metadata": {
        "id": "goXGOpuydAuy"
      },
      "source": [
        "## Instruction\n",
        "\n",
        "Write Python code to answer each question. You must use 1 line of code for each answer.\n",
        "\n",
        "## คำสั่ง\n",
        "\n",
        "จงเขียนโค้ดภาษาไพธอนเพื่อตอบคำถาม\n",
        "โดยเขียนคำตอบด้วยโค้ด 1 บรรทัดโค้ดเท่านั้น"
      ]
    },
    {
      "cell_type": "markdown",
      "metadata": {
        "id": "1nHZEt9CbL9Y"
      },
      "source": [
        "## Q0\n",
        "\n",
        "Import nessessary Libraries\n",
        "\n",
        "นำเข้า libraries ที่จำเป็น"
      ]
    },
    {
      "cell_type": "code",
      "execution_count": 2,
      "metadata": {
        "id": "HVM32YATbXzB"
      },
      "outputs": [],
      "source": [
        "import pandas as pd"
      ]
    },
    {
      "cell_type": "markdown",
      "metadata": {
        "id": "rQTNltWMZUlH"
      },
      "source": [
        "## Q1\n",
        "\n",
        "Read data from \n",
        "https://docs.google.com/spreadsheets/d/e/2PACX-1vRIFbIywXecgxN5c1sMn_KYWsARoXgp4paFxu4qndPaX_47vRaOdrqmiHjtNZ9ZYQcv3ubMSv8DA9ta/pub?gid=0&single=true&output=csv  \n",
        "\n",
        "into a dataframe named **df**\n",
        "\n",
        "จงอ่านข้อมูลจาก sheet จาก link ที่กำหนดเป็น Pandas Dataframe ชื่อ **df**"
      ]
    },
    {
      "cell_type": "code",
      "execution_count": 3,
      "metadata": {
        "id": "_675OGuOZgGh"
      },
      "outputs": [],
      "source": [
        "df = pd.read_csv(\"https://docs.google.com/spreadsheets/d/e/2PACX-1vRIFbIywXecgxN5c1sMn_KYWsARoXgp4paFxu4qndPaX_47vRaOdrqmiHjtNZ9ZYQcv3ubMSv8DA9ta/pub?gid=0&single=true&output=csv\")"
      ]
    },
    {
      "cell_type": "markdown",
      "metadata": {
        "id": "7WtLsq6rZadh"
      },
      "source": [
        "## Q2\n",
        "\n",
        "Display the whole dataframe.\n",
        "\n",
        "จงแสดงข้อมูลทั้งตาราง"
      ]
    },
    {
      "cell_type": "code",
      "execution_count": 4,
      "metadata": {
        "colab": {
          "base_uri": "https://localhost:8080/",
          "height": 300
        },
        "id": "BReQIjQbYayg",
        "outputId": "ad6c0403-5a40-4cef-b0dd-2908f2867d8e"
      },
      "outputs": [
        {
          "data": {
            "text/html": [
              "<div>\n",
              "<style scoped>\n",
              "    .dataframe tbody tr th:only-of-type {\n",
              "        vertical-align: middle;\n",
              "    }\n",
              "\n",
              "    .dataframe tbody tr th {\n",
              "        vertical-align: top;\n",
              "    }\n",
              "\n",
              "    .dataframe thead th {\n",
              "        text-align: right;\n",
              "    }\n",
              "</style>\n",
              "<table border=\"1\" class=\"dataframe\">\n",
              "  <thead>\n",
              "    <tr style=\"text-align: right;\">\n",
              "      <th></th>\n",
              "      <th>eid</th>\n",
              "      <th>name</th>\n",
              "      <th>gender</th>\n",
              "      <th>department</th>\n",
              "      <th>age</th>\n",
              "      <th>height</th>\n",
              "      <th>weight</th>\n",
              "      <th>gpa</th>\n",
              "      <th>salary</th>\n",
              "      <th>working_years</th>\n",
              "      <th>car_park</th>\n",
              "      <th>birth_place</th>\n",
              "    </tr>\n",
              "  </thead>\n",
              "  <tbody>\n",
              "    <tr>\n",
              "      <th>0</th>\n",
              "      <td>E011</td>\n",
              "      <td>Anda</td>\n",
              "      <td>female</td>\n",
              "      <td>developer</td>\n",
              "      <td>39</td>\n",
              "      <td>166</td>\n",
              "      <td>53.8</td>\n",
              "      <td>3.02</td>\n",
              "      <td>64200.0</td>\n",
              "      <td>4</td>\n",
              "      <td>True</td>\n",
              "      <td>Bangkok</td>\n",
              "    </tr>\n",
              "    <tr>\n",
              "      <th>1</th>\n",
              "      <td>E012</td>\n",
              "      <td>Bordin</td>\n",
              "      <td>male</td>\n",
              "      <td>developer</td>\n",
              "      <td>25</td>\n",
              "      <td>179</td>\n",
              "      <td>78.4</td>\n",
              "      <td>2.39</td>\n",
              "      <td>48700.0</td>\n",
              "      <td>2</td>\n",
              "      <td>True</td>\n",
              "      <td>Phuket</td>\n",
              "    </tr>\n",
              "    <tr>\n",
              "      <th>2</th>\n",
              "      <td>E013</td>\n",
              "      <td>Chantana</td>\n",
              "      <td>female</td>\n",
              "      <td>developer</td>\n",
              "      <td>29</td>\n",
              "      <td>171</td>\n",
              "      <td>70.2</td>\n",
              "      <td>3.02</td>\n",
              "      <td>45500.0</td>\n",
              "      <td>3</td>\n",
              "      <td>False</td>\n",
              "      <td>Chonburi</td>\n",
              "    </tr>\n",
              "    <tr>\n",
              "      <th>3</th>\n",
              "      <td>E014</td>\n",
              "      <td>Donlaya</td>\n",
              "      <td>female</td>\n",
              "      <td>marketing</td>\n",
              "      <td>39</td>\n",
              "      <td>154</td>\n",
              "      <td>66.5</td>\n",
              "      <td>3.21</td>\n",
              "      <td>72600.0</td>\n",
              "      <td>8</td>\n",
              "      <td>False</td>\n",
              "      <td>Chonburi</td>\n",
              "    </tr>\n",
              "    <tr>\n",
              "      <th>4</th>\n",
              "      <td>E015</td>\n",
              "      <td>Ekkasit</td>\n",
              "      <td>male</td>\n",
              "      <td>marketing</td>\n",
              "      <td>37</td>\n",
              "      <td>177</td>\n",
              "      <td>66.4</td>\n",
              "      <td>3.33</td>\n",
              "      <td>80500.0</td>\n",
              "      <td>7</td>\n",
              "      <td>True</td>\n",
              "      <td>Suphanburi</td>\n",
              "    </tr>\n",
              "    <tr>\n",
              "      <th>5</th>\n",
              "      <td>E016</td>\n",
              "      <td>Fundee</td>\n",
              "      <td>female</td>\n",
              "      <td>support</td>\n",
              "      <td>35</td>\n",
              "      <td>156</td>\n",
              "      <td>75.6</td>\n",
              "      <td>2.38</td>\n",
              "      <td>56600.0</td>\n",
              "      <td>3</td>\n",
              "      <td>False</td>\n",
              "      <td>Phuket</td>\n",
              "    </tr>\n",
              "    <tr>\n",
              "      <th>6</th>\n",
              "      <td>E017</td>\n",
              "      <td>Gitiwit</td>\n",
              "      <td>male</td>\n",
              "      <td>support</td>\n",
              "      <td>26</td>\n",
              "      <td>175</td>\n",
              "      <td>69.7</td>\n",
              "      <td>3.25</td>\n",
              "      <td>42400.0</td>\n",
              "      <td>2</td>\n",
              "      <td>False</td>\n",
              "      <td>Suphanburi</td>\n",
              "    </tr>\n",
              "    <tr>\n",
              "      <th>7</th>\n",
              "      <td>E018</td>\n",
              "      <td>Harit</td>\n",
              "      <td>male</td>\n",
              "      <td>devops</td>\n",
              "      <td>32</td>\n",
              "      <td>180</td>\n",
              "      <td>67.5</td>\n",
              "      <td>3.45</td>\n",
              "      <td>67700.0</td>\n",
              "      <td>5</td>\n",
              "      <td>True</td>\n",
              "      <td>Bangkok</td>\n",
              "    </tr>\n",
              "  </tbody>\n",
              "</table>\n",
              "</div>"
            ],
            "text/plain": [
              "    eid      name  gender department  age  height  weight   gpa   salary  \\\n",
              "0  E011      Anda  female  developer   39     166    53.8  3.02  64200.0   \n",
              "1  E012    Bordin    male  developer   25     179    78.4  2.39  48700.0   \n",
              "2  E013  Chantana  female  developer   29     171    70.2  3.02  45500.0   \n",
              "3  E014   Donlaya  female  marketing   39     154    66.5  3.21  72600.0   \n",
              "4  E015   Ekkasit    male  marketing   37     177    66.4  3.33  80500.0   \n",
              "5  E016    Fundee  female    support   35     156    75.6  2.38  56600.0   \n",
              "6  E017   Gitiwit    male    support   26     175    69.7  3.25  42400.0   \n",
              "7  E018     Harit    male     devops   32     180    67.5  3.45  67700.0   \n",
              "\n",
              "   working_years  car_park birth_place  \n",
              "0              4      True     Bangkok  \n",
              "1              2      True      Phuket  \n",
              "2              3     False    Chonburi  \n",
              "3              8     False    Chonburi  \n",
              "4              7      True  Suphanburi  \n",
              "5              3     False      Phuket  \n",
              "6              2     False  Suphanburi  \n",
              "7              5      True     Bangkok  "
            ]
          },
          "execution_count": 4,
          "metadata": {},
          "output_type": "execute_result"
        }
      ],
      "source": [
        "df"
      ]
    },
    {
      "cell_type": "markdown",
      "metadata": {
        "id": "eIsEIM72ZgRG"
      },
      "source": [
        "## Q3\n",
        "\n",
        "Display the first 3 rows of the dataframe.\n",
        "\n",
        "จงแสดงข้อมูล 3 บรรทัดแรกของตาราง"
      ]
    },
    {
      "cell_type": "code",
      "execution_count": 5,
      "metadata": {
        "colab": {
          "base_uri": "https://localhost:8080/",
          "height": 143
        },
        "id": "EAxTPwFrZoaL",
        "outputId": "0fd7fb99-1524-4c84-82be-46d98c6176f5"
      },
      "outputs": [
        {
          "data": {
            "text/html": [
              "<div>\n",
              "<style scoped>\n",
              "    .dataframe tbody tr th:only-of-type {\n",
              "        vertical-align: middle;\n",
              "    }\n",
              "\n",
              "    .dataframe tbody tr th {\n",
              "        vertical-align: top;\n",
              "    }\n",
              "\n",
              "    .dataframe thead th {\n",
              "        text-align: right;\n",
              "    }\n",
              "</style>\n",
              "<table border=\"1\" class=\"dataframe\">\n",
              "  <thead>\n",
              "    <tr style=\"text-align: right;\">\n",
              "      <th></th>\n",
              "      <th>eid</th>\n",
              "      <th>name</th>\n",
              "      <th>gender</th>\n",
              "      <th>department</th>\n",
              "      <th>age</th>\n",
              "      <th>height</th>\n",
              "      <th>weight</th>\n",
              "      <th>gpa</th>\n",
              "      <th>salary</th>\n",
              "      <th>working_years</th>\n",
              "      <th>car_park</th>\n",
              "      <th>birth_place</th>\n",
              "    </tr>\n",
              "  </thead>\n",
              "  <tbody>\n",
              "    <tr>\n",
              "      <th>0</th>\n",
              "      <td>E011</td>\n",
              "      <td>Anda</td>\n",
              "      <td>female</td>\n",
              "      <td>developer</td>\n",
              "      <td>39</td>\n",
              "      <td>166</td>\n",
              "      <td>53.8</td>\n",
              "      <td>3.02</td>\n",
              "      <td>64200.0</td>\n",
              "      <td>4</td>\n",
              "      <td>True</td>\n",
              "      <td>Bangkok</td>\n",
              "    </tr>\n",
              "    <tr>\n",
              "      <th>1</th>\n",
              "      <td>E012</td>\n",
              "      <td>Bordin</td>\n",
              "      <td>male</td>\n",
              "      <td>developer</td>\n",
              "      <td>25</td>\n",
              "      <td>179</td>\n",
              "      <td>78.4</td>\n",
              "      <td>2.39</td>\n",
              "      <td>48700.0</td>\n",
              "      <td>2</td>\n",
              "      <td>True</td>\n",
              "      <td>Phuket</td>\n",
              "    </tr>\n",
              "    <tr>\n",
              "      <th>2</th>\n",
              "      <td>E013</td>\n",
              "      <td>Chantana</td>\n",
              "      <td>female</td>\n",
              "      <td>developer</td>\n",
              "      <td>29</td>\n",
              "      <td>171</td>\n",
              "      <td>70.2</td>\n",
              "      <td>3.02</td>\n",
              "      <td>45500.0</td>\n",
              "      <td>3</td>\n",
              "      <td>False</td>\n",
              "      <td>Chonburi</td>\n",
              "    </tr>\n",
              "  </tbody>\n",
              "</table>\n",
              "</div>"
            ],
            "text/plain": [
              "    eid      name  gender department  age  height  weight   gpa   salary  \\\n",
              "0  E011      Anda  female  developer   39     166    53.8  3.02  64200.0   \n",
              "1  E012    Bordin    male  developer   25     179    78.4  2.39  48700.0   \n",
              "2  E013  Chantana  female  developer   29     171    70.2  3.02  45500.0   \n",
              "\n",
              "   working_years  car_park birth_place  \n",
              "0              4      True     Bangkok  \n",
              "1              2      True      Phuket  \n",
              "2              3     False    Chonburi  "
            ]
          },
          "execution_count": 5,
          "metadata": {},
          "output_type": "execute_result"
        }
      ],
      "source": [
        "df.head(3)"
      ]
    },
    {
      "cell_type": "markdown",
      "metadata": {
        "id": "saM-6zAEZolT"
      },
      "source": [
        "## Q4\n",
        "\n",
        "Display the last 3 rows of the dataframe.\n",
        "\n",
        "จงแสดงข้อมูล 3 บรรทัดสุดท้ายของตาราง"
      ]
    },
    {
      "cell_type": "code",
      "execution_count": 6,
      "metadata": {
        "colab": {
          "base_uri": "https://localhost:8080/",
          "height": 143
        },
        "id": "8SrGuODsZ6Q8",
        "outputId": "58d49ee7-4120-407f-e53b-4161be06b805"
      },
      "outputs": [
        {
          "data": {
            "text/html": [
              "<div>\n",
              "<style scoped>\n",
              "    .dataframe tbody tr th:only-of-type {\n",
              "        vertical-align: middle;\n",
              "    }\n",
              "\n",
              "    .dataframe tbody tr th {\n",
              "        vertical-align: top;\n",
              "    }\n",
              "\n",
              "    .dataframe thead th {\n",
              "        text-align: right;\n",
              "    }\n",
              "</style>\n",
              "<table border=\"1\" class=\"dataframe\">\n",
              "  <thead>\n",
              "    <tr style=\"text-align: right;\">\n",
              "      <th></th>\n",
              "      <th>eid</th>\n",
              "      <th>name</th>\n",
              "      <th>gender</th>\n",
              "      <th>department</th>\n",
              "      <th>age</th>\n",
              "      <th>height</th>\n",
              "      <th>weight</th>\n",
              "      <th>gpa</th>\n",
              "      <th>salary</th>\n",
              "      <th>working_years</th>\n",
              "      <th>car_park</th>\n",
              "      <th>birth_place</th>\n",
              "    </tr>\n",
              "  </thead>\n",
              "  <tbody>\n",
              "    <tr>\n",
              "      <th>5</th>\n",
              "      <td>E016</td>\n",
              "      <td>Fundee</td>\n",
              "      <td>female</td>\n",
              "      <td>support</td>\n",
              "      <td>35</td>\n",
              "      <td>156</td>\n",
              "      <td>75.6</td>\n",
              "      <td>2.38</td>\n",
              "      <td>56600.0</td>\n",
              "      <td>3</td>\n",
              "      <td>False</td>\n",
              "      <td>Phuket</td>\n",
              "    </tr>\n",
              "    <tr>\n",
              "      <th>6</th>\n",
              "      <td>E017</td>\n",
              "      <td>Gitiwit</td>\n",
              "      <td>male</td>\n",
              "      <td>support</td>\n",
              "      <td>26</td>\n",
              "      <td>175</td>\n",
              "      <td>69.7</td>\n",
              "      <td>3.25</td>\n",
              "      <td>42400.0</td>\n",
              "      <td>2</td>\n",
              "      <td>False</td>\n",
              "      <td>Suphanburi</td>\n",
              "    </tr>\n",
              "    <tr>\n",
              "      <th>7</th>\n",
              "      <td>E018</td>\n",
              "      <td>Harit</td>\n",
              "      <td>male</td>\n",
              "      <td>devops</td>\n",
              "      <td>32</td>\n",
              "      <td>180</td>\n",
              "      <td>67.5</td>\n",
              "      <td>3.45</td>\n",
              "      <td>67700.0</td>\n",
              "      <td>5</td>\n",
              "      <td>True</td>\n",
              "      <td>Bangkok</td>\n",
              "    </tr>\n",
              "  </tbody>\n",
              "</table>\n",
              "</div>"
            ],
            "text/plain": [
              "    eid     name  gender department  age  height  weight   gpa   salary  \\\n",
              "5  E016   Fundee  female    support   35     156    75.6  2.38  56600.0   \n",
              "6  E017  Gitiwit    male    support   26     175    69.7  3.25  42400.0   \n",
              "7  E018    Harit    male     devops   32     180    67.5  3.45  67700.0   \n",
              "\n",
              "   working_years  car_park birth_place  \n",
              "5              3     False      Phuket  \n",
              "6              2     False  Suphanburi  \n",
              "7              5      True     Bangkok  "
            ]
          },
          "execution_count": 6,
          "metadata": {},
          "output_type": "execute_result"
        }
      ],
      "source": [
        "df.tail(3)"
      ]
    },
    {
      "cell_type": "markdown",
      "metadata": {
        "id": "TgvE_XQZZ6ei"
      },
      "source": [
        "## Q5\n",
        "\n",
        "Display data only columns: name, gender, and birth_place.\n",
        "\n",
        "จงแสดงข้อมูลเฉพาะคอลัมน์ name, gender, และ birth_place"
      ]
    },
    {
      "cell_type": "code",
      "execution_count": 14,
      "metadata": {
        "colab": {
          "base_uri": "https://localhost:8080/",
          "height": 300
        },
        "id": "jNVN3FDMZ_EQ",
        "outputId": "90a06034-a45b-4f6e-88cf-d90c08e372a2"
      },
      "outputs": [
        {
          "data": {
            "text/html": [
              "<div>\n",
              "<style scoped>\n",
              "    .dataframe tbody tr th:only-of-type {\n",
              "        vertical-align: middle;\n",
              "    }\n",
              "\n",
              "    .dataframe tbody tr th {\n",
              "        vertical-align: top;\n",
              "    }\n",
              "\n",
              "    .dataframe thead th {\n",
              "        text-align: right;\n",
              "    }\n",
              "</style>\n",
              "<table border=\"1\" class=\"dataframe\">\n",
              "  <thead>\n",
              "    <tr style=\"text-align: right;\">\n",
              "      <th></th>\n",
              "      <th>name</th>\n",
              "      <th>gender</th>\n",
              "      <th>birth_place</th>\n",
              "    </tr>\n",
              "  </thead>\n",
              "  <tbody>\n",
              "    <tr>\n",
              "      <th>0</th>\n",
              "      <td>Anda</td>\n",
              "      <td>female</td>\n",
              "      <td>Bangkok</td>\n",
              "    </tr>\n",
              "    <tr>\n",
              "      <th>1</th>\n",
              "      <td>Bordin</td>\n",
              "      <td>male</td>\n",
              "      <td>Phuket</td>\n",
              "    </tr>\n",
              "    <tr>\n",
              "      <th>2</th>\n",
              "      <td>Chantana</td>\n",
              "      <td>female</td>\n",
              "      <td>Chonburi</td>\n",
              "    </tr>\n",
              "    <tr>\n",
              "      <th>3</th>\n",
              "      <td>Donlaya</td>\n",
              "      <td>female</td>\n",
              "      <td>Chonburi</td>\n",
              "    </tr>\n",
              "    <tr>\n",
              "      <th>4</th>\n",
              "      <td>Ekkasit</td>\n",
              "      <td>male</td>\n",
              "      <td>Suphanburi</td>\n",
              "    </tr>\n",
              "    <tr>\n",
              "      <th>5</th>\n",
              "      <td>Fundee</td>\n",
              "      <td>female</td>\n",
              "      <td>Phuket</td>\n",
              "    </tr>\n",
              "    <tr>\n",
              "      <th>6</th>\n",
              "      <td>Gitiwit</td>\n",
              "      <td>male</td>\n",
              "      <td>Suphanburi</td>\n",
              "    </tr>\n",
              "    <tr>\n",
              "      <th>7</th>\n",
              "      <td>Harit</td>\n",
              "      <td>male</td>\n",
              "      <td>Bangkok</td>\n",
              "    </tr>\n",
              "  </tbody>\n",
              "</table>\n",
              "</div>"
            ],
            "text/plain": [
              "       name  gender birth_place\n",
              "0      Anda  female     Bangkok\n",
              "1    Bordin    male      Phuket\n",
              "2  Chantana  female    Chonburi\n",
              "3   Donlaya  female    Chonburi\n",
              "4   Ekkasit    male  Suphanburi\n",
              "5    Fundee  female      Phuket\n",
              "6   Gitiwit    male  Suphanburi\n",
              "7     Harit    male     Bangkok"
            ]
          },
          "execution_count": 14,
          "metadata": {},
          "output_type": "execute_result"
        }
      ],
      "source": [
        "df[[\"name\",\"gender\",\"birth_place\"]]"
      ]
    },
    {
      "cell_type": "markdown",
      "metadata": {
        "id": "1oR9tKv2Z_RP"
      },
      "source": [
        "## Q6\n",
        "\n",
        "Display data only the rows of Bordin, Fundee, and Harit.\n",
        "\n",
        "จงแสดงข้อมูลเฉพาะแถวของ Bordin, Fundee, และ Harit"
      ]
    },
    {
      "cell_type": "code",
      "execution_count": 8,
      "metadata": {
        "colab": {
          "base_uri": "https://localhost:8080/",
          "height": 175
        },
        "id": "wGt_3sOjaD_o",
        "outputId": "5eb7f9c2-a71b-476e-ad90-d4edc9aefa87"
      },
      "outputs": [
        {
          "data": {
            "text/html": [
              "<div>\n",
              "<style scoped>\n",
              "    .dataframe tbody tr th:only-of-type {\n",
              "        vertical-align: middle;\n",
              "    }\n",
              "\n",
              "    .dataframe tbody tr th {\n",
              "        vertical-align: top;\n",
              "    }\n",
              "\n",
              "    .dataframe thead th {\n",
              "        text-align: right;\n",
              "    }\n",
              "</style>\n",
              "<table border=\"1\" class=\"dataframe\">\n",
              "  <thead>\n",
              "    <tr style=\"text-align: right;\">\n",
              "      <th></th>\n",
              "      <th>eid</th>\n",
              "      <th>gender</th>\n",
              "      <th>department</th>\n",
              "      <th>age</th>\n",
              "      <th>height</th>\n",
              "      <th>weight</th>\n",
              "      <th>gpa</th>\n",
              "      <th>salary</th>\n",
              "      <th>working_years</th>\n",
              "      <th>car_park</th>\n",
              "      <th>birth_place</th>\n",
              "    </tr>\n",
              "    <tr>\n",
              "      <th>name</th>\n",
              "      <th></th>\n",
              "      <th></th>\n",
              "      <th></th>\n",
              "      <th></th>\n",
              "      <th></th>\n",
              "      <th></th>\n",
              "      <th></th>\n",
              "      <th></th>\n",
              "      <th></th>\n",
              "      <th></th>\n",
              "      <th></th>\n",
              "    </tr>\n",
              "  </thead>\n",
              "  <tbody>\n",
              "    <tr>\n",
              "      <th>Bordin</th>\n",
              "      <td>E012</td>\n",
              "      <td>male</td>\n",
              "      <td>developer</td>\n",
              "      <td>25</td>\n",
              "      <td>179</td>\n",
              "      <td>78.4</td>\n",
              "      <td>2.39</td>\n",
              "      <td>48700.0</td>\n",
              "      <td>2</td>\n",
              "      <td>True</td>\n",
              "      <td>Phuket</td>\n",
              "    </tr>\n",
              "    <tr>\n",
              "      <th>Fundee</th>\n",
              "      <td>E016</td>\n",
              "      <td>female</td>\n",
              "      <td>support</td>\n",
              "      <td>35</td>\n",
              "      <td>156</td>\n",
              "      <td>75.6</td>\n",
              "      <td>2.38</td>\n",
              "      <td>56600.0</td>\n",
              "      <td>3</td>\n",
              "      <td>False</td>\n",
              "      <td>Phuket</td>\n",
              "    </tr>\n",
              "    <tr>\n",
              "      <th>Harit</th>\n",
              "      <td>E018</td>\n",
              "      <td>male</td>\n",
              "      <td>devops</td>\n",
              "      <td>32</td>\n",
              "      <td>180</td>\n",
              "      <td>67.5</td>\n",
              "      <td>3.45</td>\n",
              "      <td>67700.0</td>\n",
              "      <td>5</td>\n",
              "      <td>True</td>\n",
              "      <td>Bangkok</td>\n",
              "    </tr>\n",
              "  </tbody>\n",
              "</table>\n",
              "</div>"
            ],
            "text/plain": [
              "         eid  gender department  age  height  weight   gpa   salary  \\\n",
              "name                                                                  \n",
              "Bordin  E012    male  developer   25     179    78.4  2.39  48700.0   \n",
              "Fundee  E016  female    support   35     156    75.6  2.38  56600.0   \n",
              "Harit   E018    male     devops   32     180    67.5  3.45  67700.0   \n",
              "\n",
              "        working_years  car_park birth_place  \n",
              "name                                         \n",
              "Bordin              2      True      Phuket  \n",
              "Fundee              3     False      Phuket  \n",
              "Harit               5      True     Bangkok  "
            ]
          },
          "execution_count": 8,
          "metadata": {},
          "output_type": "execute_result"
        }
      ],
      "source": [
        "df.set_index(\"name\").loc[[\"Bordin\",\"Fundee\",\"Harit\"]]"
      ]
    },
    {
      "cell_type": "markdown",
      "metadata": {
        "id": "WXMrER0-aEJ3"
      },
      "source": [
        "## Q7\n",
        "\n",
        "Display the name and salary of employee IDs E014 and E017.\n",
        "\n",
        "จงแสดงเฉพาะ name และ salary ของพนักงานรหัส  E014 กับ E017"
      ]
    },
    {
      "cell_type": "code",
      "execution_count": 9,
      "metadata": {
        "colab": {
          "base_uri": "https://localhost:8080/",
          "height": 143
        },
        "id": "7RCXhuNGaM-A",
        "outputId": "c18cd90f-e51d-4e81-facb-5c74d1795eda"
      },
      "outputs": [
        {
          "data": {
            "text/html": [
              "<div>\n",
              "<style scoped>\n",
              "    .dataframe tbody tr th:only-of-type {\n",
              "        vertical-align: middle;\n",
              "    }\n",
              "\n",
              "    .dataframe tbody tr th {\n",
              "        vertical-align: top;\n",
              "    }\n",
              "\n",
              "    .dataframe thead th {\n",
              "        text-align: right;\n",
              "    }\n",
              "</style>\n",
              "<table border=\"1\" class=\"dataframe\">\n",
              "  <thead>\n",
              "    <tr style=\"text-align: right;\">\n",
              "      <th></th>\n",
              "      <th>name</th>\n",
              "      <th>salary</th>\n",
              "    </tr>\n",
              "    <tr>\n",
              "      <th>eid</th>\n",
              "      <th></th>\n",
              "      <th></th>\n",
              "    </tr>\n",
              "  </thead>\n",
              "  <tbody>\n",
              "    <tr>\n",
              "      <th>E014</th>\n",
              "      <td>Donlaya</td>\n",
              "      <td>72600.0</td>\n",
              "    </tr>\n",
              "    <tr>\n",
              "      <th>E017</th>\n",
              "      <td>Gitiwit</td>\n",
              "      <td>42400.0</td>\n",
              "    </tr>\n",
              "  </tbody>\n",
              "</table>\n",
              "</div>"
            ],
            "text/plain": [
              "         name   salary\n",
              "eid                   \n",
              "E014  Donlaya  72600.0\n",
              "E017  Gitiwit  42400.0"
            ]
          },
          "execution_count": 9,
          "metadata": {},
          "output_type": "execute_result"
        }
      ],
      "source": [
        "df.set_index(\"eid\").loc[[\"E014\",\"E017\"],[\"name\",\"salary\"]]"
      ]
    },
    {
      "cell_type": "markdown",
      "metadata": {
        "id": "Z3kR3IrQaNLo"
      },
      "source": [
        "## Q8\n",
        "\n",
        "Display only rows of ones who have a car park space.\n",
        "\n",
        "จงแสดงข้อมูลทั้งแถวเฉพาะผู้ที่ใช้ที่จอดรถ"
      ]
    },
    {
      "cell_type": "code",
      "execution_count": 10,
      "metadata": {
        "colab": {
          "base_uri": "https://localhost:8080/",
          "height": 175
        },
        "id": "CvQ0yMfTaTXl",
        "outputId": "1b55ba2d-a76a-4e35-dbbc-1f5f46d3b59e"
      },
      "outputs": [
        {
          "data": {
            "text/html": [
              "<div>\n",
              "<style scoped>\n",
              "    .dataframe tbody tr th:only-of-type {\n",
              "        vertical-align: middle;\n",
              "    }\n",
              "\n",
              "    .dataframe tbody tr th {\n",
              "        vertical-align: top;\n",
              "    }\n",
              "\n",
              "    .dataframe thead th {\n",
              "        text-align: right;\n",
              "    }\n",
              "</style>\n",
              "<table border=\"1\" class=\"dataframe\">\n",
              "  <thead>\n",
              "    <tr style=\"text-align: right;\">\n",
              "      <th></th>\n",
              "      <th>eid</th>\n",
              "      <th>name</th>\n",
              "      <th>gender</th>\n",
              "      <th>department</th>\n",
              "      <th>age</th>\n",
              "      <th>height</th>\n",
              "      <th>weight</th>\n",
              "      <th>gpa</th>\n",
              "      <th>salary</th>\n",
              "      <th>working_years</th>\n",
              "      <th>car_park</th>\n",
              "      <th>birth_place</th>\n",
              "    </tr>\n",
              "  </thead>\n",
              "  <tbody>\n",
              "    <tr>\n",
              "      <th>0</th>\n",
              "      <td>E011</td>\n",
              "      <td>Anda</td>\n",
              "      <td>female</td>\n",
              "      <td>developer</td>\n",
              "      <td>39</td>\n",
              "      <td>166</td>\n",
              "      <td>53.8</td>\n",
              "      <td>3.02</td>\n",
              "      <td>64200.0</td>\n",
              "      <td>4</td>\n",
              "      <td>True</td>\n",
              "      <td>Bangkok</td>\n",
              "    </tr>\n",
              "    <tr>\n",
              "      <th>1</th>\n",
              "      <td>E012</td>\n",
              "      <td>Bordin</td>\n",
              "      <td>male</td>\n",
              "      <td>developer</td>\n",
              "      <td>25</td>\n",
              "      <td>179</td>\n",
              "      <td>78.4</td>\n",
              "      <td>2.39</td>\n",
              "      <td>48700.0</td>\n",
              "      <td>2</td>\n",
              "      <td>True</td>\n",
              "      <td>Phuket</td>\n",
              "    </tr>\n",
              "    <tr>\n",
              "      <th>4</th>\n",
              "      <td>E015</td>\n",
              "      <td>Ekkasit</td>\n",
              "      <td>male</td>\n",
              "      <td>marketing</td>\n",
              "      <td>37</td>\n",
              "      <td>177</td>\n",
              "      <td>66.4</td>\n",
              "      <td>3.33</td>\n",
              "      <td>80500.0</td>\n",
              "      <td>7</td>\n",
              "      <td>True</td>\n",
              "      <td>Suphanburi</td>\n",
              "    </tr>\n",
              "    <tr>\n",
              "      <th>7</th>\n",
              "      <td>E018</td>\n",
              "      <td>Harit</td>\n",
              "      <td>male</td>\n",
              "      <td>devops</td>\n",
              "      <td>32</td>\n",
              "      <td>180</td>\n",
              "      <td>67.5</td>\n",
              "      <td>3.45</td>\n",
              "      <td>67700.0</td>\n",
              "      <td>5</td>\n",
              "      <td>True</td>\n",
              "      <td>Bangkok</td>\n",
              "    </tr>\n",
              "  </tbody>\n",
              "</table>\n",
              "</div>"
            ],
            "text/plain": [
              "    eid     name  gender department  age  height  weight   gpa   salary  \\\n",
              "0  E011     Anda  female  developer   39     166    53.8  3.02  64200.0   \n",
              "1  E012   Bordin    male  developer   25     179    78.4  2.39  48700.0   \n",
              "4  E015  Ekkasit    male  marketing   37     177    66.4  3.33  80500.0   \n",
              "7  E018    Harit    male     devops   32     180    67.5  3.45  67700.0   \n",
              "\n",
              "   working_years  car_park birth_place  \n",
              "0              4      True     Bangkok  \n",
              "1              2      True      Phuket  \n",
              "4              7      True  Suphanburi  \n",
              "7              5      True     Bangkok  "
            ]
          },
          "execution_count": 10,
          "metadata": {},
          "output_type": "execute_result"
        }
      ],
      "source": [
        "df[df[\"car_park\"]]"
      ]
    },
    {
      "cell_type": "markdown",
      "metadata": {
        "id": "5aalK3dvaThC"
      },
      "source": [
        "## Q9\n",
        "\n",
        "Display \"name\" of only womens having a car park space.\n",
        "\n",
        "จงแสดง \"ชื่อ\" ของผู้ที่ใช้ที่จอดรถ และเป็นผู้หญิง\n"
      ]
    },
    {
      "cell_type": "code",
      "execution_count": 11,
      "metadata": {
        "colab": {
          "base_uri": "https://localhost:8080/",
          "height": 81
        },
        "id": "7M8TUM9NapCj",
        "outputId": "3998f2ab-19a6-4280-d0c8-a921811136a4"
      },
      "outputs": [
        {
          "data": {
            "text/html": [
              "<div>\n",
              "<style scoped>\n",
              "    .dataframe tbody tr th:only-of-type {\n",
              "        vertical-align: middle;\n",
              "    }\n",
              "\n",
              "    .dataframe tbody tr th {\n",
              "        vertical-align: top;\n",
              "    }\n",
              "\n",
              "    .dataframe thead th {\n",
              "        text-align: right;\n",
              "    }\n",
              "</style>\n",
              "<table border=\"1\" class=\"dataframe\">\n",
              "  <thead>\n",
              "    <tr style=\"text-align: right;\">\n",
              "      <th></th>\n",
              "      <th>name</th>\n",
              "    </tr>\n",
              "  </thead>\n",
              "  <tbody>\n",
              "    <tr>\n",
              "      <th>0</th>\n",
              "      <td>Anda</td>\n",
              "    </tr>\n",
              "  </tbody>\n",
              "</table>\n",
              "</div>"
            ],
            "text/plain": [
              "   name\n",
              "0  Anda"
            ]
          },
          "execution_count": 11,
          "metadata": {},
          "output_type": "execute_result"
        }
      ],
      "source": [
        "df[(df[\"car_park\"]) & (df[\"gender\"]==\"female\")][[\"name\"]]"
      ]
    },
    {
      "cell_type": "markdown",
      "metadata": {
        "id": "VBDFvF4GaYcK"
      },
      "source": [
        "## Q10\n",
        "\n",
        "Display the salary of Ekkasit.\n",
        "\n",
        "จงแสดงเงินเดือนของ Ekkasit"
      ]
    },
    {
      "cell_type": "code",
      "execution_count": 12,
      "metadata": {
        "colab": {
          "base_uri": "https://localhost:8080/",
          "height": 112
        },
        "id": "OaaYw3ZIaku3",
        "outputId": "07fa86cb-c855-4de7-f5d2-3269bfdd7272"
      },
      "outputs": [
        {
          "data": {
            "text/html": [
              "<div>\n",
              "<style scoped>\n",
              "    .dataframe tbody tr th:only-of-type {\n",
              "        vertical-align: middle;\n",
              "    }\n",
              "\n",
              "    .dataframe tbody tr th {\n",
              "        vertical-align: top;\n",
              "    }\n",
              "\n",
              "    .dataframe thead th {\n",
              "        text-align: right;\n",
              "    }\n",
              "</style>\n",
              "<table border=\"1\" class=\"dataframe\">\n",
              "  <thead>\n",
              "    <tr style=\"text-align: right;\">\n",
              "      <th></th>\n",
              "      <th>salary</th>\n",
              "    </tr>\n",
              "    <tr>\n",
              "      <th>name</th>\n",
              "      <th></th>\n",
              "    </tr>\n",
              "  </thead>\n",
              "  <tbody>\n",
              "    <tr>\n",
              "      <th>Ekkasit</th>\n",
              "      <td>80500.0</td>\n",
              "    </tr>\n",
              "  </tbody>\n",
              "</table>\n",
              "</div>"
            ],
            "text/plain": [
              "          salary\n",
              "name            \n",
              "Ekkasit  80500.0"
            ]
          },
          "execution_count": 12,
          "metadata": {},
          "output_type": "execute_result"
        }
      ],
      "source": [
        "df.set_index(\"name\").loc[[\"Ekkasit\"],[\"salary\"]]"
      ]
    },
    {
      "cell_type": "markdown",
      "metadata": {
        "id": "jlUFscexatBo"
      },
      "source": [
        "\n",
        "\n",
        "---\n",
        "https://rathachai.creatier.pro/\n",
        "\n",
        "## つづく"
      ]
    }
  ],
  "metadata": {
    "colab": {
      "provenance": []
    },
    "kernelspec": {
      "display_name": "DA",
      "language": "python",
      "name": "python3"
    },
    "language_info": {
      "codemirror_mode": {
        "name": "ipython",
        "version": 3
      },
      "file_extension": ".py",
      "mimetype": "text/x-python",
      "name": "python",
      "nbconvert_exporter": "python",
      "pygments_lexer": "ipython3",
      "version": "3.9.15"
    },
    "vscode": {
      "interpreter": {
        "hash": "cbf326c453521dcf055e5f22ff3faeb219c51a2a5fc31d6229254e393913c9fc"
      }
    }
  },
  "nbformat": 4,
  "nbformat_minor": 0
}
