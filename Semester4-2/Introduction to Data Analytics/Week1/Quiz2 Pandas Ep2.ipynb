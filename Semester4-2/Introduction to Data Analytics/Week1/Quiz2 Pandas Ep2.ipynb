{
  "cells": [
    {
      "cell_type": "code",
      "execution_count": 1,
      "metadata": {
        "id": "5QrdQE67RlK6"
      },
      "outputs": [],
      "source": [
        "#@title Your Information\n",
        "\n",
        "full_name =  'Phukphoom Taphrae' #@param {type:\"string\"}\n",
        "student_id =  '62010609'  #@param {type:\"string\"}\n",
        "\n",
        "#@markdown ---\n"
      ]
    },
    {
      "cell_type": "markdown",
      "metadata": {
        "id": "5F6ZW_5cZM3R"
      },
      "source": [
        "# **Pandas Quiz Ep.2**\n",
        "> ## *Author* : [Rathachai CHAWUTHAI](https://rathachai.creatier.pro/) , Ph.D\n",
        "> ### *Affiliation* : Computer Engineering, King Mongkut's Institute of Technology Ladkrabang (KMITL)\n",
        "> #### *Updated Date* : 2022-03-23\n",
        "---"
      ]
    },
    {
      "cell_type": "markdown",
      "metadata": {
        "id": "goXGOpuydAuy"
      },
      "source": [
        "## Instruction\n",
        "\n",
        "Write Python code to answer each question. In general, it uses 1 line of code for each answer.\n",
        "\n",
        "## คำสั่ง\n",
        "\n",
        "จงเขียนโค้ดภาษาไพธอนเพื่อตอบคำถาม\n",
        "ซึ่งโดยทั่วไปคำตอบแต่ละข้อจะใช้เพียง 1 บรรทัดโค้ด"
      ]
    },
    {
      "cell_type": "markdown",
      "metadata": {
        "id": "1nHZEt9CbL9Y"
      },
      "source": [
        "## Q0\n",
        "\n",
        "Import nessessary Libraries\n",
        "\n",
        "นำเข้า libraries ที่จำเป็น"
      ]
    },
    {
      "cell_type": "code",
      "execution_count": 2,
      "metadata": {
        "id": "HVM32YATbXzB"
      },
      "outputs": [],
      "source": [
        "import pandas as pd"
      ]
    },
    {
      "cell_type": "markdown",
      "metadata": {
        "id": "rQTNltWMZUlH"
      },
      "source": [
        "## Q1\n",
        "\n",
        "Read data from \n",
        "https://docs.google.com/spreadsheets/d/e/2PACX-1vRIFbIywXecgxN5c1sMn_KYWsARoXgp4paFxu4qndPaX_47vRaOdrqmiHjtNZ9ZYQcv3ubMSv8DA9ta/pub?gid=0&single=true&output=csv  \n",
        "\n",
        "into a dataframe named **df**\n",
        "\n",
        "จงอ่านข้อมูลจาก sheet จาก link ที่กำหนดเป็น Pandas Dataframe ชื่อ **df**"
      ]
    },
    {
      "cell_type": "code",
      "execution_count": 3,
      "metadata": {
        "id": "BReQIjQbYayg"
      },
      "outputs": [],
      "source": [
        "df = pd.read_csv(\"https://docs.google.com/spreadsheets/d/e/2PACX-1vRIFbIywXecgxN5c1sMn_KYWsARoXgp4paFxu4qndPaX_47vRaOdrqmiHjtNZ9ZYQcv3ubMSv8DA9ta/pub?gid=0&single=true&output=csv\")"
      ]
    },
    {
      "cell_type": "markdown",
      "metadata": {
        "id": "7WtLsq6rZadh"
      },
      "source": [
        "## Q2\n",
        "\n",
        "List the top-3 tallest people\n",
        "\n",
        "เลือก 3 คนแรกที่สูงที่สุด"
      ]
    },
    {
      "cell_type": "code",
      "execution_count": 4,
      "metadata": {
        "colab": {
          "base_uri": "https://localhost:8080/",
          "height": 143
        },
        "id": "_675OGuOZgGh",
        "outputId": "206afbee-e866-4c01-aa87-75d57a6d142e"
      },
      "outputs": [
        {
          "data": {
            "text/html": [
              "<div>\n",
              "<style scoped>\n",
              "    .dataframe tbody tr th:only-of-type {\n",
              "        vertical-align: middle;\n",
              "    }\n",
              "\n",
              "    .dataframe tbody tr th {\n",
              "        vertical-align: top;\n",
              "    }\n",
              "\n",
              "    .dataframe thead th {\n",
              "        text-align: right;\n",
              "    }\n",
              "</style>\n",
              "<table border=\"1\" class=\"dataframe\">\n",
              "  <thead>\n",
              "    <tr style=\"text-align: right;\">\n",
              "      <th></th>\n",
              "      <th>eid</th>\n",
              "      <th>name</th>\n",
              "      <th>gender</th>\n",
              "      <th>department</th>\n",
              "      <th>age</th>\n",
              "      <th>height</th>\n",
              "      <th>weight</th>\n",
              "      <th>gpa</th>\n",
              "      <th>salary</th>\n",
              "      <th>working_years</th>\n",
              "      <th>car_park</th>\n",
              "      <th>birth_place</th>\n",
              "    </tr>\n",
              "  </thead>\n",
              "  <tbody>\n",
              "    <tr>\n",
              "      <th>7</th>\n",
              "      <td>E018</td>\n",
              "      <td>Harit</td>\n",
              "      <td>male</td>\n",
              "      <td>devops</td>\n",
              "      <td>32</td>\n",
              "      <td>180</td>\n",
              "      <td>67.5</td>\n",
              "      <td>3.45</td>\n",
              "      <td>67700.0</td>\n",
              "      <td>5</td>\n",
              "      <td>True</td>\n",
              "      <td>Bangkok</td>\n",
              "    </tr>\n",
              "    <tr>\n",
              "      <th>1</th>\n",
              "      <td>E012</td>\n",
              "      <td>Bordin</td>\n",
              "      <td>male</td>\n",
              "      <td>developer</td>\n",
              "      <td>25</td>\n",
              "      <td>179</td>\n",
              "      <td>78.4</td>\n",
              "      <td>2.39</td>\n",
              "      <td>48700.0</td>\n",
              "      <td>2</td>\n",
              "      <td>True</td>\n",
              "      <td>Phuket</td>\n",
              "    </tr>\n",
              "    <tr>\n",
              "      <th>4</th>\n",
              "      <td>E015</td>\n",
              "      <td>Ekkasit</td>\n",
              "      <td>male</td>\n",
              "      <td>marketing</td>\n",
              "      <td>37</td>\n",
              "      <td>177</td>\n",
              "      <td>66.4</td>\n",
              "      <td>3.33</td>\n",
              "      <td>80500.0</td>\n",
              "      <td>7</td>\n",
              "      <td>True</td>\n",
              "      <td>Suphanburi</td>\n",
              "    </tr>\n",
              "  </tbody>\n",
              "</table>\n",
              "</div>"
            ],
            "text/plain": [
              "    eid     name gender department  age  height  weight   gpa   salary  \\\n",
              "7  E018    Harit   male     devops   32     180    67.5  3.45  67700.0   \n",
              "1  E012   Bordin   male  developer   25     179    78.4  2.39  48700.0   \n",
              "4  E015  Ekkasit   male  marketing   37     177    66.4  3.33  80500.0   \n",
              "\n",
              "   working_years  car_park birth_place  \n",
              "7              5      True     Bangkok  \n",
              "1              2      True      Phuket  \n",
              "4              7      True  Suphanburi  "
            ]
          },
          "execution_count": 4,
          "metadata": {},
          "output_type": "execute_result"
        }
      ],
      "source": [
        "df.sort_values(\"height\",ascending=False).head(3)"
      ]
    },
    {
      "cell_type": "markdown",
      "metadata": {
        "id": "eIsEIM72ZgRG"
      },
      "source": [
        "## Q3\n",
        "\n",
        "The metric BMI formula = Weight (kg) ÷ Height (Metres)².\n",
        "Create a new columns named \"bmi\" with the bmi value\n",
        "\n",
        "\n",
        "คำนวณค่า BMI จากสมการ นำ้หนัก (kg) ÷ ส่วนสูง (Metres)²\n",
        "แล้วสร้างคอลัมน์ใหม่ ชื่อ \"bmi\" สำหรับค่าที่คำนวณนี้"
      ]
    },
    {
      "cell_type": "code",
      "execution_count": 5,
      "metadata": {
        "id": "EAxTPwFrZoaL"
      },
      "outputs": [],
      "source": [
        "df[\"bmi\"] = df[\"weight\"]/((df[\"height\"]/100)**2)"
      ]
    },
    {
      "cell_type": "markdown",
      "metadata": {
        "id": "saM-6zAEZolT"
      },
      "source": [
        "## Q4\n",
        "\n",
        "Change the salary of Ekkasit by increasing 10%.\n",
        "\n",
        "จงเพิ่มเงินเดือนของ Ekkasit ขึ้นอีก 10%"
      ]
    },
    {
      "cell_type": "code",
      "execution_count": 6,
      "metadata": {
        "id": "8SrGuODsZ6Q8"
      },
      "outputs": [],
      "source": [
        "df.loc[df[\"name\"]==\"Ekkasit\",\"salary\"] *= 1.1"
      ]
    },
    {
      "cell_type": "markdown",
      "metadata": {
        "id": "TgvE_XQZZ6ei"
      },
      "source": [
        "## Q5\n",
        "\n",
        "In crease the salary of people, who use the car park space (car_park=True) by 1000 THB.\n",
        "\n",
        "จงเพิ่มเงินเดือนให้กับผู้ที่ต้องใช้ที่จอดรถ (car_park=True) จำนวน 1000 บาท"
      ]
    },
    {
      "cell_type": "code",
      "execution_count": 7,
      "metadata": {
        "id": "jNVN3FDMZ_EQ"
      },
      "outputs": [],
      "source": [
        "df.loc[df[\"car_park\"],\"salary\"] += 1000"
      ]
    },
    {
      "cell_type": "markdown",
      "metadata": {
        "id": "1oR9tKv2Z_RP"
      },
      "source": [
        "## Q6\n",
        "\n",
        "Show the average GPA grouped by department.\n",
        "\n",
        "จงแสดงค่าเฉลี่ย GPA ตามแผนก"
      ]
    },
    {
      "cell_type": "code",
      "execution_count": 8,
      "metadata": {
        "colab": {
          "base_uri": "https://localhost:8080/",
          "height": 206
        },
        "id": "wGt_3sOjaD_o",
        "outputId": "a889b856-12bb-4e97-bfbd-e1bbbb507975"
      },
      "outputs": [
        {
          "data": {
            "text/html": [
              "<div>\n",
              "<style scoped>\n",
              "    .dataframe tbody tr th:only-of-type {\n",
              "        vertical-align: middle;\n",
              "    }\n",
              "\n",
              "    .dataframe tbody tr th {\n",
              "        vertical-align: top;\n",
              "    }\n",
              "\n",
              "    .dataframe thead th {\n",
              "        text-align: right;\n",
              "    }\n",
              "</style>\n",
              "<table border=\"1\" class=\"dataframe\">\n",
              "  <thead>\n",
              "    <tr style=\"text-align: right;\">\n",
              "      <th></th>\n",
              "      <th>gpa</th>\n",
              "    </tr>\n",
              "    <tr>\n",
              "      <th>department</th>\n",
              "      <th></th>\n",
              "    </tr>\n",
              "  </thead>\n",
              "  <tbody>\n",
              "    <tr>\n",
              "      <th>developer</th>\n",
              "      <td>2.810</td>\n",
              "    </tr>\n",
              "    <tr>\n",
              "      <th>devops</th>\n",
              "      <td>3.450</td>\n",
              "    </tr>\n",
              "    <tr>\n",
              "      <th>marketing</th>\n",
              "      <td>3.270</td>\n",
              "    </tr>\n",
              "    <tr>\n",
              "      <th>support</th>\n",
              "      <td>2.815</td>\n",
              "    </tr>\n",
              "  </tbody>\n",
              "</table>\n",
              "</div>"
            ],
            "text/plain": [
              "              gpa\n",
              "department       \n",
              "developer   2.810\n",
              "devops      3.450\n",
              "marketing   3.270\n",
              "support     2.815"
            ]
          },
          "execution_count": 8,
          "metadata": {},
          "output_type": "execute_result"
        }
      ],
      "source": [
        "df.groupby([\"department\"])[[\"gpa\"]].mean()"
      ]
    },
    {
      "cell_type": "markdown",
      "metadata": {
        "id": "WXMrER0-aEJ3"
      },
      "source": [
        "## Q7\n",
        "\n",
        "Show the average age of female in each department.\n",
        "\n",
        "จงหาค่าเฉลี่ยอายุของผู้หญิงในแต่ละแผนก"
      ]
    },
    {
      "cell_type": "code",
      "execution_count": 9,
      "metadata": {
        "colab": {
          "base_uri": "https://localhost:8080/",
          "height": 175
        },
        "id": "7RCXhuNGaM-A",
        "outputId": "97cb7d81-85c4-44b5-8edf-fee028e0e1d7"
      },
      "outputs": [
        {
          "data": {
            "text/html": [
              "<div>\n",
              "<style scoped>\n",
              "    .dataframe tbody tr th:only-of-type {\n",
              "        vertical-align: middle;\n",
              "    }\n",
              "\n",
              "    .dataframe tbody tr th {\n",
              "        vertical-align: top;\n",
              "    }\n",
              "\n",
              "    .dataframe thead th {\n",
              "        text-align: right;\n",
              "    }\n",
              "</style>\n",
              "<table border=\"1\" class=\"dataframe\">\n",
              "  <thead>\n",
              "    <tr style=\"text-align: right;\">\n",
              "      <th></th>\n",
              "      <th>age</th>\n",
              "    </tr>\n",
              "    <tr>\n",
              "      <th>department</th>\n",
              "      <th></th>\n",
              "    </tr>\n",
              "  </thead>\n",
              "  <tbody>\n",
              "    <tr>\n",
              "      <th>developer</th>\n",
              "      <td>34.0</td>\n",
              "    </tr>\n",
              "    <tr>\n",
              "      <th>marketing</th>\n",
              "      <td>39.0</td>\n",
              "    </tr>\n",
              "    <tr>\n",
              "      <th>support</th>\n",
              "      <td>35.0</td>\n",
              "    </tr>\n",
              "  </tbody>\n",
              "</table>\n",
              "</div>"
            ],
            "text/plain": [
              "             age\n",
              "department      \n",
              "developer   34.0\n",
              "marketing   39.0\n",
              "support     35.0"
            ]
          },
          "execution_count": 9,
          "metadata": {},
          "output_type": "execute_result"
        }
      ],
      "source": [
        "df[df[\"gender\"]==\"female\"].groupby([\"department\"])[[\"age\"]].mean()"
      ]
    },
    {
      "cell_type": "markdown",
      "metadata": {
        "id": "Z3kR3IrQaNLo"
      },
      "source": [
        "## Q8\n",
        "\n",
        "Show the average age, maximum GPA, minimum GPA, and number of people in each department.\n",
        "\n",
        "จงแสดง อายุเฉลี่ย, GPA สูงสุด, GPA ต่ำสุด, และจำนวนของพนักงาน ในแต่ละแผนก"
      ]
    },
    {
      "cell_type": "code",
      "execution_count": 10,
      "metadata": {
        "colab": {
          "base_uri": "https://localhost:8080/",
          "height": 238
        },
        "id": "CvQ0yMfTaTXl",
        "outputId": "9da945e1-e968-43f9-a376-6ed0964054e5"
      },
      "outputs": [
        {
          "data": {
            "text/html": [
              "<div>\n",
              "<style scoped>\n",
              "    .dataframe tbody tr th:only-of-type {\n",
              "        vertical-align: middle;\n",
              "    }\n",
              "\n",
              "    .dataframe tbody tr th {\n",
              "        vertical-align: top;\n",
              "    }\n",
              "\n",
              "    .dataframe thead tr th {\n",
              "        text-align: left;\n",
              "    }\n",
              "\n",
              "    .dataframe thead tr:last-of-type th {\n",
              "        text-align: right;\n",
              "    }\n",
              "</style>\n",
              "<table border=\"1\" class=\"dataframe\">\n",
              "  <thead>\n",
              "    <tr>\n",
              "      <th></th>\n",
              "      <th>age</th>\n",
              "      <th colspan=\"2\" halign=\"left\">gpa</th>\n",
              "      <th>eid</th>\n",
              "    </tr>\n",
              "    <tr>\n",
              "      <th></th>\n",
              "      <th>mean</th>\n",
              "      <th>max</th>\n",
              "      <th>min</th>\n",
              "      <th>count</th>\n",
              "    </tr>\n",
              "    <tr>\n",
              "      <th>department</th>\n",
              "      <th></th>\n",
              "      <th></th>\n",
              "      <th></th>\n",
              "      <th></th>\n",
              "    </tr>\n",
              "  </thead>\n",
              "  <tbody>\n",
              "    <tr>\n",
              "      <th>developer</th>\n",
              "      <td>31.0</td>\n",
              "      <td>3.02</td>\n",
              "      <td>2.39</td>\n",
              "      <td>3</td>\n",
              "    </tr>\n",
              "    <tr>\n",
              "      <th>devops</th>\n",
              "      <td>32.0</td>\n",
              "      <td>3.45</td>\n",
              "      <td>3.45</td>\n",
              "      <td>1</td>\n",
              "    </tr>\n",
              "    <tr>\n",
              "      <th>marketing</th>\n",
              "      <td>38.0</td>\n",
              "      <td>3.33</td>\n",
              "      <td>3.21</td>\n",
              "      <td>2</td>\n",
              "    </tr>\n",
              "    <tr>\n",
              "      <th>support</th>\n",
              "      <td>30.5</td>\n",
              "      <td>3.25</td>\n",
              "      <td>2.38</td>\n",
              "      <td>2</td>\n",
              "    </tr>\n",
              "  </tbody>\n",
              "</table>\n",
              "</div>"
            ],
            "text/plain": [
              "             age   gpa         eid\n",
              "            mean   max   min count\n",
              "department                        \n",
              "developer   31.0  3.02  2.39     3\n",
              "devops      32.0  3.45  3.45     1\n",
              "marketing   38.0  3.33  3.21     2\n",
              "support     30.5  3.25  2.38     2"
            ]
          },
          "execution_count": 10,
          "metadata": {},
          "output_type": "execute_result"
        }
      ],
      "source": [
        "df.groupby([\"department\"]).agg({\"age\":\"mean\",\"gpa\":[\"max\",\"min\"],\"eid\":\"count\"})"
      ]
    },
    {
      "cell_type": "markdown",
      "metadata": {
        "id": "5aalK3dvaThC"
      },
      "source": [
        "## Q9\n",
        "\n",
        "Create a new column named \"weight_lbs\", and\n",
        "use a lambda function to calculate the weight (in kg) into lbs.\n",
        "\n",
        "\n",
        "จำสร้างคอลัมน์ใหม่ชื่อ \"weight_lbs\" ทีใช้ lambda function เพื่อแปลงน้ำหนักจาก กิโลกรัม เป็นหน่วย ปอนด์\n"
      ]
    },
    {
      "cell_type": "code",
      "execution_count": 11,
      "metadata": {
        "id": "7M8TUM9NapCj"
      },
      "outputs": [],
      "source": [
        "df[\"weight_lbs\"] = df[\"weight\"].apply(lambda x: x*2.2)"
      ]
    },
    {
      "cell_type": "markdown",
      "metadata": {
        "id": "VBDFvF4GaYcK"
      },
      "source": [
        "## Q10\n",
        "\n",
        "Create a new column named \"bmi_lambda\", and use a lambda function to calculate the BMI. \n",
        "\n",
        "จงสร้างคอลัมน์ใหม่ชื่อ \"bmi_lambda\" โดยใช้ lambda function คำนวณค่า BMI"
      ]
    },
    {
      "cell_type": "code",
      "execution_count": 12,
      "metadata": {
        "id": "OaaYw3ZIaku3"
      },
      "outputs": [],
      "source": [
        "df[\"bmi_lambda\"] = df[\"weight\"]/df[\"height\"].apply(lambda x: pow(x/100,2))"
      ]
    },
    {
      "cell_type": "markdown",
      "metadata": {
        "id": "jlUFscexatBo"
      },
      "source": [
        "\n",
        "\n",
        "---\n",
        "https://rathachai.creatier.pro/\n",
        "\n",
        "## つづく"
      ]
    }
  ],
  "metadata": {
    "colab": {
      "provenance": []
    },
    "kernelspec": {
      "display_name": "DA",
      "language": "python",
      "name": "python3"
    },
    "language_info": {
      "codemirror_mode": {
        "name": "ipython",
        "version": 3
      },
      "file_extension": ".py",
      "mimetype": "text/x-python",
      "name": "python",
      "nbconvert_exporter": "python",
      "pygments_lexer": "ipython3",
      "version": "3.9.15"
    },
    "vscode": {
      "interpreter": {
        "hash": "cbf326c453521dcf055e5f22ff3faeb219c51a2a5fc31d6229254e393913c9fc"
      }
    }
  },
  "nbformat": 4,
  "nbformat_minor": 0
}
